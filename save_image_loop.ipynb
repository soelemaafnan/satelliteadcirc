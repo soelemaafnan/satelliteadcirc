{
 "cells": [
  {
   "cell_type": "code",
   "execution_count": 1,
   "id": "5bad91a4-fb4b-4f64-9d55-1302544876b5",
   "metadata": {},
   "outputs": [],
   "source": [
    "import warnings\n",
    "warnings.filterwarnings(\"ignore\")\n",
    "import xarray as xr\n",
    "import netCDF4 as nc4\n",
    "import numpy as np\n",
    "import shapely.vectorized\n",
    "import time\n",
    "import pandas as pd\n",
    "import geopy as gpy\n",
    "import matplotlib as mpl\n",
    "import matplotlib.pyplot as plt\n",
    "import matplotlib.tri as tri\n",
    "import cartopy as cart\n",
    "import cartopy.crs as ccrs\n",
    "import pathlib as pl\n",
    "import cmocean\n",
    "from scipy.spatial import cKDTree\n",
    "from shapely import Polygon, box"
   ]
  },
  {
   "cell_type": "code",
   "execution_count": 2,
   "id": "64713005-00e0-4b6f-8cfb-214ad1fd18fb",
   "metadata": {},
   "outputs": [],
   "source": [
    "mod_file = ('C:/Users/soele/OneDrive - George Mason University - O365 Production/Documents/FINESST/SWOT_Data/fort63/withalloffset/fort.63.nc')\n",
    "mod_ds = nc4.Dataset(mod_file)\n",
    "mod_lat = mod_ds.variables[\"y\"][:].data\n",
    "mod_lon = mod_ds.variables[\"x\"][:].data\n",
    "ssh = mod_ds.variables[\"zeta\"]\n",
    "#ssh_indice = np.where (((mod_lat > 7) & (mod_lat < 50)) & ((mod_lon < -60) & (mod_lon > -100)))[0]\n",
    "#ssh_indice = np.where (((mod_lat > 32) & (mod_lat < 42)) & ((mod_lon < -72) & (mod_lon > -78)))[0]\n",
    "#print(ssh[:,ssh_indice])\n",
    "##normalize = mpl.colors.Normalize(vmin=np.min(ssh[:,ssh_indice]), vmax=np.max(ssh[:,ssh_indice]))\n",
    "#print(normalize)\n",
    "#colors = [cmap(normalize(d)) for d in ssh[:,ssh_indice]]\n",
    "#print(colors)"
   ]
  },
  {
   "cell_type": "code",
   "execution_count": 3,
   "id": "3cc3d371-935a-404f-9bc5-c84d251c47aa",
   "metadata": {},
   "outputs": [],
   "source": [
    "start_date = pd.Timestamp('2014-07-01 00:00:00')\n",
    "end_date = pd.Timestamp('2014-07-03 23:00:00')\n",
    "time = pd.date_range(start_date, end_date, freq='H')"
   ]
  },
  {
   "cell_type": "code",
   "execution_count": 4,
   "id": "1c9fa0ed-582c-4bfb-a33a-29541a8f8ac9",
   "metadata": {
    "editable": true,
    "slideshow": {
     "slide_type": ""
    },
    "tags": []
   },
   "outputs": [],
   "source": [
    "#Specify the Figure\n",
    "root = pl.Path(r'C:/Users/soele/OneDrive - George Mason University - O365 Production/Documents/FINESST/SWOT_Data/fort63/withalloffset')\n",
    "proj = ccrs.PlateCarree()\n",
    "ssh_indice = np.where (((mod_lat > 7) & (mod_lat < 50)) & ((mod_lon < -60) & (mod_lon > -100)))[0]\n",
    "#ssh_indice = np.where (((mod_lat > 32) & (mod_lat < 42)) & ((mod_lon < -72) & (mod_lon > -78)))[0]\n",
    "cmap = cmocean.cm.thermal\n",
    "normalize = mpl.colors.Normalize(vmin=np.min(ssh[:,ssh_indice]), vmax=np.max(ssh[:,ssh_indice]))\n",
    "colors = [cmap(normalize(d)) for d in ssh[:,ssh_indice]]\n",
    "for i in range(len(time)):\n",
    "    fig  = plt.figure(figsize=(8,8),dpi=300)\n",
    "    ax = plt.axes(projection = proj)\n",
    "    #ax = plot_background(ax)\n",
    "    ##########\n",
    "    PlotZ = ssh[i,:]\n",
    "    triang = tri.Triangulation(mod_lon, mod_lat, triangles=mod_ds.variables['element'][:,:]-1)\n",
    "    if PlotZ.mask.any():\n",
    "        point_mask_indices = np.where(PlotZ.mask)\n",
    "        tri_mask = np.any(np.in1d(mod_ds.variables['element'][:,:]-1, point_mask_indices).reshape(-1, 3), axis=1)\n",
    "        triang.set_mask(tri_mask)\n",
    "    ts = pd.to_datetime(str(time[i]))\n",
    "    title = ts.strftime('%Y-%m-%d - %H:%M')\n",
    "    levels = np.arange(-1.5,2.5,0.1)\n",
    "    ax.set_extent([-78, -72, 32, 42]) \n",
    "    ax.set_title(f'{title}')\n",
    "    ax.coastlines(resolution='10m',linewidth=0.5)\n",
    "    ax.add_feature(cart.feature.LAKES)\n",
    "    ax.add_feature(cart.feature.RIVERS,linestyle=\"-\")\n",
    "    ax.add_feature(cart.feature.BORDERS.with_scale(\"10m\"),linestyle=\"-\")\n",
    "    ax.stock_img()\n",
    "    cf = ax.tricontourf(triang, PlotZ, transform = proj, c=colors, cmap = cmap, extend = 'both')\n",
    "    # Colorbar junk\n",
    "    cax, _ = mpl.colorbar.make_axes(ax,shrink=.9)\n",
    "    cbar = mpl.colorbar.ColorbarBase(cax, cmap=cmap, norm=normalize)\n",
    "    cbar.set_label(label = 'WL (m)',fontsize = '12')\n",
    "    gl = ax.gridlines(draw_labels=True, linewidth=1, color='gray', alpha=0.5, linestyle='--')\n",
    "\n",
    "    # Customize the gridlines\n",
    "    gl.xlabels_top = False  # Hide the top x-axis labels\n",
    "    gl.ylabels_right = False  # Hide the right y-axis labels\n",
    "    gl.xlabel_style = {'size': 8}  # Set the x-axis label font size\n",
    "    gl.ylabel_style = {'size': 8}  # Set the y-axis label font size\n",
    "    savename = ts.strftime('%Y.%m.%d-%H.%M')\n",
    "    title = str(root / f'{savename}.png')\n",
    "    fig.savefig(title)\n",
    "    plt.close()"
   ]
  },
  {
   "cell_type": "code",
   "execution_count": null,
   "id": "b6ecb6dc-fd94-4968-b724-d1d909846a38",
   "metadata": {},
   "outputs": [],
   "source": []
  }
 ],
 "metadata": {
  "kernelspec": {
   "display_name": "adcsat",
   "language": "python",
   "name": "python3"
  },
  "language_info": {
   "codemirror_mode": {
    "name": "ipython",
    "version": 3
   },
   "file_extension": ".py",
   "mimetype": "text/x-python",
   "name": "python",
   "nbconvert_exporter": "python",
   "pygments_lexer": "ipython3",
   "version": "3.9.18"
  }
 },
 "nbformat": 4,
 "nbformat_minor": 5
}
