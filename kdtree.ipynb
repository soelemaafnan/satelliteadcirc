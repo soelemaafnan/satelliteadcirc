{
 "cells": [
  {
   "cell_type": "code",
   "execution_count": 3,
   "metadata": {},
   "outputs": [
    {
     "name": "stdout",
     "output_type": "stream",
     "text": [
      "The index of the closest point is: 277642\n"
     ]
    }
   ],
   "source": [
    "import pandas as pd\n",
    "import numpy as np\n",
    "from scipy.spatial import cKDTree\n",
    "import netCDF4\n",
    "\n",
    "# User-defined point (latitude, longitude)\n",
    "user_defined_lat = 37.996389  # Replace with your latitude\n",
    "user_defined_lon = -76.465556  # Replace with your longitude\n",
    "\n",
    "# Load the NetCDF file\n",
    "nc_file = netCDF4.Dataset('C:/Users/soele/OneDrive - George Mason University - O365 Production\\Documents/FINESST/Paper-2/swot_fast/fort.63.nc', 'r')\n",
    "\n",
    "# Extract the latitude and longitude from the NetCDF file\n",
    "latitudes = nc_file.variables['y'][:]  # Replace with your actual variable name if different\n",
    "longitudes = nc_file.variables['x'][:]  # Replace with your actual variable name if different\n",
    "\n",
    "# Normalize longitudes from 0-360 to -180 to +180 if needed\n",
    "longitudes = np.where(longitudes > 180, longitudes - 360, longitudes)\n",
    "\n",
    "# Create an array of tuples with the latitude and longitude\n",
    "points = np.column_stack((latitudes, longitudes))\n",
    "\n",
    "# Create a KDTree for quick nearest-neighbor lookup\n",
    "kdtree = cKDTree(points)\n",
    "\n",
    "# Find the closest point for the user-defined coordinates\n",
    "_, closest_point_idx = kdtree.query([user_defined_lat, user_defined_lon])\n",
    "\n",
    "# Adjust the index for 0-based Python indexing if necessary\n",
    "closest_point_idx_zero_based = closest_point_idx - 1\n",
    "\n",
    "print(f\"The index of the closest point is: {closest_point_idx_zero_based}\")\n",
    "\n",
    "# Close the NetCDF file\n",
    "nc_file.close()"
   ]
  }
 ],
 "metadata": {
  "kernelspec": {
   "display_name": "adcsat-cfgrib",
   "language": "python",
   "name": "python3"
  },
  "language_info": {
   "codemirror_mode": {
    "name": "ipython",
    "version": 3
   },
   "file_extension": ".py",
   "mimetype": "text/x-python",
   "name": "python",
   "nbconvert_exporter": "python",
   "pygments_lexer": "ipython3",
   "version": "3.10.12"
  }
 },
 "nbformat": 4,
 "nbformat_minor": 2
}
