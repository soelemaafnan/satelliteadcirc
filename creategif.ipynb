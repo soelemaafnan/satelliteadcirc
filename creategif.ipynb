{
 "cells": [
  {
   "cell_type": "code",
   "execution_count": 1,
   "id": "31adcd72-ed3e-4f02-b2c8-f8d7a15b5b60",
   "metadata": {
    "editable": true,
    "slideshow": {
     "slide_type": ""
    },
    "tags": []
   },
   "outputs": [],
   "source": [
    "import pathlib as pl\n",
    "import glob\n",
    "from PIL import Image"
   ]
  },
  {
   "cell_type": "markdown",
   "id": "57e5e89f-436f-4ba5-a7a0-642a2af841b4",
   "metadata": {},
   "source": [
    "# User Input:"
   ]
  },
  {
   "cell_type": "code",
   "execution_count": 4,
   "id": "98b69c95-efa7-4a7b-b235-32934d488384",
   "metadata": {},
   "outputs": [],
   "source": [
    "# Path to the folder with all the images to stitch into a GIF\n",
    "path = pl.Path('/scratch/07174/soelem/results')\n",
    "# GIF output name\n",
    "gifname = 'jason.gif'\n",
    "# Gif length\n",
    "length = 50"
   ]
  },
  {
   "cell_type": "markdown",
   "id": "dd332c1e-8ee7-4a19-acd6-9e0dcd5f453d",
   "metadata": {},
   "source": [
    "# Run to Create the GIF"
   ]
  },
  {
   "cell_type": "code",
   "execution_count": 5,
   "id": "5a0d991b-c831-4272-abc6-896104613c42",
   "metadata": {},
   "outputs": [],
   "source": [
    "frames = [Image.open(image) for image in path.glob('*.png')]\n",
    "frame_one = frames[0]\n",
    "frame_one.save(gifname, format=\"GIF\", append_images=frames, save_all=True, duration=length, loop=0)"
   ]
  }
 ],
 "metadata": {
  "kernelspec": {
   "display_name": "adcsat",
   "language": "python",
   "name": "python3"
  },
  "language_info": {
   "codemirror_mode": {
    "name": "ipython",
    "version": 3
   },
   "file_extension": ".py",
   "mimetype": "text/x-python",
   "name": "python",
   "nbconvert_exporter": "python",
   "pygments_lexer": "ipython3",
   "version": "3.9.18"
  }
 },
 "nbformat": 4,
 "nbformat_minor": 5
}
